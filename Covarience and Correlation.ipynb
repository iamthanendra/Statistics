{
 "cells": [
  {
   "cell_type": "code",
   "execution_count": 20,
   "id": "e77f4bd5-ad7f-4c72-9bb1-efd3e9680d58",
   "metadata": {},
   "outputs": [],
   "source": [
    "import seaborn as sns"
   ]
  },
  {
   "cell_type": "code",
   "execution_count": 21,
   "id": "e586ddbf-fcc8-4b35-9a63-91794ceacad8",
   "metadata": {},
   "outputs": [
    {
     "data": {
      "text/html": [
       "<div>\n",
       "<style scoped>\n",
       "    .dataframe tbody tr th:only-of-type {\n",
       "        vertical-align: middle;\n",
       "    }\n",
       "\n",
       "    .dataframe tbody tr th {\n",
       "        vertical-align: top;\n",
       "    }\n",
       "\n",
       "    .dataframe thead th {\n",
       "        text-align: right;\n",
       "    }\n",
       "</style>\n",
       "<table border=\"1\" class=\"dataframe\">\n",
       "  <thead>\n",
       "    <tr style=\"text-align: right;\">\n",
       "      <th></th>\n",
       "      <th>Year</th>\n",
       "      <th>Country</th>\n",
       "      <th>Spending_USD</th>\n",
       "      <th>Life_Expectancy</th>\n",
       "    </tr>\n",
       "  </thead>\n",
       "  <tbody>\n",
       "    <tr>\n",
       "      <th>0</th>\n",
       "      <td>1970</td>\n",
       "      <td>Germany</td>\n",
       "      <td>252.311</td>\n",
       "      <td>70.6</td>\n",
       "    </tr>\n",
       "    <tr>\n",
       "      <th>1</th>\n",
       "      <td>1970</td>\n",
       "      <td>France</td>\n",
       "      <td>192.143</td>\n",
       "      <td>72.2</td>\n",
       "    </tr>\n",
       "    <tr>\n",
       "      <th>2</th>\n",
       "      <td>1970</td>\n",
       "      <td>Great Britain</td>\n",
       "      <td>123.993</td>\n",
       "      <td>71.9</td>\n",
       "    </tr>\n",
       "    <tr>\n",
       "      <th>3</th>\n",
       "      <td>1970</td>\n",
       "      <td>Japan</td>\n",
       "      <td>150.437</td>\n",
       "      <td>72.0</td>\n",
       "    </tr>\n",
       "    <tr>\n",
       "      <th>4</th>\n",
       "      <td>1970</td>\n",
       "      <td>USA</td>\n",
       "      <td>326.961</td>\n",
       "      <td>70.9</td>\n",
       "    </tr>\n",
       "    <tr>\n",
       "      <th>...</th>\n",
       "      <td>...</td>\n",
       "      <td>...</td>\n",
       "      <td>...</td>\n",
       "      <td>...</td>\n",
       "    </tr>\n",
       "    <tr>\n",
       "      <th>269</th>\n",
       "      <td>2020</td>\n",
       "      <td>Germany</td>\n",
       "      <td>6938.983</td>\n",
       "      <td>81.1</td>\n",
       "    </tr>\n",
       "    <tr>\n",
       "      <th>270</th>\n",
       "      <td>2020</td>\n",
       "      <td>France</td>\n",
       "      <td>5468.418</td>\n",
       "      <td>82.3</td>\n",
       "    </tr>\n",
       "    <tr>\n",
       "      <th>271</th>\n",
       "      <td>2020</td>\n",
       "      <td>Great Britain</td>\n",
       "      <td>5018.700</td>\n",
       "      <td>80.4</td>\n",
       "    </tr>\n",
       "    <tr>\n",
       "      <th>272</th>\n",
       "      <td>2020</td>\n",
       "      <td>Japan</td>\n",
       "      <td>4665.641</td>\n",
       "      <td>84.7</td>\n",
       "    </tr>\n",
       "    <tr>\n",
       "      <th>273</th>\n",
       "      <td>2020</td>\n",
       "      <td>USA</td>\n",
       "      <td>11859.179</td>\n",
       "      <td>77.0</td>\n",
       "    </tr>\n",
       "  </tbody>\n",
       "</table>\n",
       "<p>274 rows × 4 columns</p>\n",
       "</div>"
      ],
      "text/plain": [
       "     Year        Country  Spending_USD  Life_Expectancy\n",
       "0    1970        Germany       252.311             70.6\n",
       "1    1970         France       192.143             72.2\n",
       "2    1970  Great Britain       123.993             71.9\n",
       "3    1970          Japan       150.437             72.0\n",
       "4    1970            USA       326.961             70.9\n",
       "..    ...            ...           ...              ...\n",
       "269  2020        Germany      6938.983             81.1\n",
       "270  2020         France      5468.418             82.3\n",
       "271  2020  Great Britain      5018.700             80.4\n",
       "272  2020          Japan      4665.641             84.7\n",
       "273  2020            USA     11859.179             77.0\n",
       "\n",
       "[274 rows x 4 columns]"
      ]
     },
     "execution_count": 21,
     "metadata": {},
     "output_type": "execute_result"
    }
   ],
   "source": [
    "df = sns.load_dataset('healthexp') #curson + shift + tab \n",
    "df"
   ]
  },
  {
   "cell_type": "markdown",
   "id": "2daea8ef-2d00-40d2-8d53-f74a11d9c294",
   "metadata": {},
   "source": [
    "## Finding covarience"
   ]
  },
  {
   "cell_type": "code",
   "execution_count": 22,
   "id": "c7a6314c-8379-4930-9ba0-86951549ff42",
   "metadata": {},
   "outputs": [
    {
     "name": "stderr",
     "output_type": "stream",
     "text": [
      "/tmp/ipykernel_149/1545644723.py:1: FutureWarning: The default value of numeric_only in DataFrame.cov is deprecated. In a future version, it will default to False. Select only valid columns or specify the value of numeric_only to silence this warning.\n",
      "  df.cov()\n"
     ]
    },
    {
     "data": {
      "text/html": [
       "<div>\n",
       "<style scoped>\n",
       "    .dataframe tbody tr th:only-of-type {\n",
       "        vertical-align: middle;\n",
       "    }\n",
       "\n",
       "    .dataframe tbody tr th {\n",
       "        vertical-align: top;\n",
       "    }\n",
       "\n",
       "    .dataframe thead th {\n",
       "        text-align: right;\n",
       "    }\n",
       "</style>\n",
       "<table border=\"1\" class=\"dataframe\">\n",
       "  <thead>\n",
       "    <tr style=\"text-align: right;\">\n",
       "      <th></th>\n",
       "      <th>Year</th>\n",
       "      <th>Spending_USD</th>\n",
       "      <th>Life_Expectancy</th>\n",
       "    </tr>\n",
       "  </thead>\n",
       "  <tbody>\n",
       "    <tr>\n",
       "      <th>Year</th>\n",
       "      <td>201.098848</td>\n",
       "      <td>2.571883e+04</td>\n",
       "      <td>41.915454</td>\n",
       "    </tr>\n",
       "    <tr>\n",
       "      <th>Spending_USD</th>\n",
       "      <td>25718.827373</td>\n",
       "      <td>4.817761e+06</td>\n",
       "      <td>4166.800912</td>\n",
       "    </tr>\n",
       "    <tr>\n",
       "      <th>Life_Expectancy</th>\n",
       "      <td>41.915454</td>\n",
       "      <td>4.166801e+03</td>\n",
       "      <td>10.733902</td>\n",
       "    </tr>\n",
       "  </tbody>\n",
       "</table>\n",
       "</div>"
      ],
      "text/plain": [
       "                         Year  Spending_USD  Life_Expectancy\n",
       "Year               201.098848  2.571883e+04        41.915454\n",
       "Spending_USD     25718.827373  4.817761e+06      4166.800912\n",
       "Life_Expectancy     41.915454  4.166801e+03        10.733902"
      ]
     },
     "execution_count": 22,
     "metadata": {},
     "output_type": "execute_result"
    }
   ],
   "source": [
    "df.cov()"
   ]
  },
  {
   "cell_type": "markdown",
   "id": "ea46ca02-0a57-46d8-b4c5-c3e339ac690b",
   "metadata": {},
   "source": [
    "## Finding Correlation"
   ]
  },
  {
   "cell_type": "markdown",
   "id": "d8584c3c-54b6-4ffe-a75f-ce23441bbc5b",
   "metadata": {},
   "source": [
    "### Pearson Correlation"
   ]
  },
  {
   "cell_type": "code",
   "execution_count": 23,
   "id": "a1bbc94c-4de1-41dc-aec8-560c5c4a6467",
   "metadata": {},
   "outputs": [
    {
     "name": "stderr",
     "output_type": "stream",
     "text": [
      "/tmp/ipykernel_149/2470876134.py:1: FutureWarning: The default value of numeric_only in DataFrame.corr is deprecated. In a future version, it will default to False. Select only valid columns or specify the value of numeric_only to silence this warning.\n",
      "  df.corr() #by default pearson\n"
     ]
    },
    {
     "data": {
      "text/html": [
       "<div>\n",
       "<style scoped>\n",
       "    .dataframe tbody tr th:only-of-type {\n",
       "        vertical-align: middle;\n",
       "    }\n",
       "\n",
       "    .dataframe tbody tr th {\n",
       "        vertical-align: top;\n",
       "    }\n",
       "\n",
       "    .dataframe thead th {\n",
       "        text-align: right;\n",
       "    }\n",
       "</style>\n",
       "<table border=\"1\" class=\"dataframe\">\n",
       "  <thead>\n",
       "    <tr style=\"text-align: right;\">\n",
       "      <th></th>\n",
       "      <th>Year</th>\n",
       "      <th>Spending_USD</th>\n",
       "      <th>Life_Expectancy</th>\n",
       "    </tr>\n",
       "  </thead>\n",
       "  <tbody>\n",
       "    <tr>\n",
       "      <th>Year</th>\n",
       "      <td>1.000000</td>\n",
       "      <td>0.826273</td>\n",
       "      <td>0.902175</td>\n",
       "    </tr>\n",
       "    <tr>\n",
       "      <th>Spending_USD</th>\n",
       "      <td>0.826273</td>\n",
       "      <td>1.000000</td>\n",
       "      <td>0.579430</td>\n",
       "    </tr>\n",
       "    <tr>\n",
       "      <th>Life_Expectancy</th>\n",
       "      <td>0.902175</td>\n",
       "      <td>0.579430</td>\n",
       "      <td>1.000000</td>\n",
       "    </tr>\n",
       "  </tbody>\n",
       "</table>\n",
       "</div>"
      ],
      "text/plain": [
       "                     Year  Spending_USD  Life_Expectancy\n",
       "Year             1.000000      0.826273         0.902175\n",
       "Spending_USD     0.826273      1.000000         0.579430\n",
       "Life_Expectancy  0.902175      0.579430         1.000000"
      ]
     },
     "execution_count": 23,
     "metadata": {},
     "output_type": "execute_result"
    }
   ],
   "source": [
    "df.corr() #by default pearson\n",
    "# df.corr(method='pearson')"
   ]
  },
  {
   "cell_type": "code",
   "execution_count": 24,
   "id": "b16f3d3b-a724-4163-a3d9-d8fb534540be",
   "metadata": {},
   "outputs": [
    {
     "name": "stderr",
     "output_type": "stream",
     "text": [
      "/tmp/ipykernel_149/1222267885.py:1: FutureWarning: The default value of numeric_only in DataFrame.corr is deprecated. In a future version, it will default to False. Select only valid columns or specify the value of numeric_only to silence this warning.\n",
      "  df.corr(method='spearman')\n"
     ]
    },
    {
     "data": {
      "text/html": [
       "<div>\n",
       "<style scoped>\n",
       "    .dataframe tbody tr th:only-of-type {\n",
       "        vertical-align: middle;\n",
       "    }\n",
       "\n",
       "    .dataframe tbody tr th {\n",
       "        vertical-align: top;\n",
       "    }\n",
       "\n",
       "    .dataframe thead th {\n",
       "        text-align: right;\n",
       "    }\n",
       "</style>\n",
       "<table border=\"1\" class=\"dataframe\">\n",
       "  <thead>\n",
       "    <tr style=\"text-align: right;\">\n",
       "      <th></th>\n",
       "      <th>Year</th>\n",
       "      <th>Spending_USD</th>\n",
       "      <th>Life_Expectancy</th>\n",
       "    </tr>\n",
       "  </thead>\n",
       "  <tbody>\n",
       "    <tr>\n",
       "      <th>Year</th>\n",
       "      <td>1.000000</td>\n",
       "      <td>0.931598</td>\n",
       "      <td>0.896117</td>\n",
       "    </tr>\n",
       "    <tr>\n",
       "      <th>Spending_USD</th>\n",
       "      <td>0.931598</td>\n",
       "      <td>1.000000</td>\n",
       "      <td>0.747407</td>\n",
       "    </tr>\n",
       "    <tr>\n",
       "      <th>Life_Expectancy</th>\n",
       "      <td>0.896117</td>\n",
       "      <td>0.747407</td>\n",
       "      <td>1.000000</td>\n",
       "    </tr>\n",
       "  </tbody>\n",
       "</table>\n",
       "</div>"
      ],
      "text/plain": [
       "                     Year  Spending_USD  Life_Expectancy\n",
       "Year             1.000000      0.931598         0.896117\n",
       "Spending_USD     0.931598      1.000000         0.747407\n",
       "Life_Expectancy  0.896117      0.747407         1.000000"
      ]
     },
     "execution_count": 24,
     "metadata": {},
     "output_type": "execute_result"
    }
   ],
   "source": [
    "df.corr(method='spearman')"
   ]
  },
  {
   "cell_type": "code",
   "execution_count": 25,
   "id": "f0b8a6a3-7922-4e25-9af2-7633ca4d9d02",
   "metadata": {},
   "outputs": [
    {
     "data": {
      "text/plain": [
       "<AxesSubplot: xlabel='Year', ylabel='Spending_USD'>"
      ]
     },
     "execution_count": 25,
     "metadata": {},
     "output_type": "execute_result"
    },
    {
     "data": {
      "image/png": "[encoded data removed]",
      "text/plain": [
       "<Figure size 640x480 with 1 Axes>"
      ]
     },
     "metadata": {},
     "output_type": "display_data"
    }
   ],
   "source": [
    "sns.scatterplot(data=df, x='Year', y='Spending_USD') # 0.931598"
   ]
  },
  {
   "cell_type": "code",
   "execution_count": 28,
   "id": "95acea01-9311-4a93-9204-5f4b66a346c9",
   "metadata": {},
   "outputs": [
    {
     "data": {
      "text/plain": [
       "<AxesSubplot: xlabel='Spending_USD', ylabel='Life_Expectancy'>"
      ]
     },
     "execution_count": 28,
     "metadata": {},
     "output_type": "execute_result"
    },
    {
     "data": {
      "image/png": "[encoded data removed]",
      "text/plain": [
       "<Figure size 640x480 with 1 Axes>"
      ]
     },
     "metadata": {},
     "output_type": "display_data"
    }
   ],
   "source": [
    "sns.scatterplot(data=df, x='Spending_USD', y='Life_Expectancy') # 0.747407"
   ]
  },
  {
   "cell_type": "code",
   "execution_count": null,
   "id": "bb1491ec-1d0c-4929-8358-bdae39bda5ca",
   "metadata": {},
   "outputs": [],
   "source": [
    "# For Odinal data apply OrdinalEncoding after that apply df.corr(method='spearman')"
   ]
  }
 ],
 "metadata": {
  "kernelspec": {
   "display_name": "Python 3 (ipykernel)",
   "language": "python",
   "name": "python3"
  },
  "language_info": {
   "codemirror_mode": {
    "name": "ipython",
    "version": 3
   },
   "file_extension": ".py",
   "mimetype": "text/x-python",
   "name": "python",
   "nbconvert_exporter": "python",
   "pygments_lexer": "ipython3",
   "version": "3.10.8"
  }
 },
 "nbformat": 4,
 "nbformat_minor": 5
}
