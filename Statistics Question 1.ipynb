{
 "cells": [
  {
   "cell_type": "markdown",
   "id": "fb7d2ee2-2103-48f3-824c-2ae3d519d494",
   "metadata": {},
   "source": [
    "<h3>Que 1. What is Statistics ?</h3>"
   ]
  },
  {
   "cell_type": "code",
   "execution_count": null,
   "id": "13234943-be35-493b-8bae-32b50fa74692",
   "metadata": {},
   "outputs": [],
   "source": []
  },
  {
   "cell_type": "markdown",
   "id": "7d167d8d-3a11-4ace-8394-c68527b653e8",
   "metadata": {},
   "source": [
    "Statistics is a branch of applied mathematics that involves the collection, description, analysis, and inference of conclusions from quantitative data. It is used to make inferences about populations based on samples, to test hypotheses, and to predict future events.\n",
    "\n",
    "\n",
    "Statistics can be divided into two main branches: descriptive statistics and inferential statistics.\n",
    "\n",
    "Descriptive statistics is used to summarize data and describe its characteristics. This can be done using measures of central tendency (such as the mean, median, and mode), measures of variability (such as the standard deviation and range), and graphical representations (such as histograms and bar charts).\n",
    "\n",
    "Inferential statistics is used to draw conclusions about populations based on samples. This can be done using statistical tests, which allow us to estimate the probability of obtaining a particular sample result if the null hypothesis is true."
   ]
  },
  {
   "cell_type": "markdown",
   "id": "4e25ad69-c8a5-42f0-9d80-e79b0fa65a8e",
   "metadata": {},
   "source": [
    "<h3>Q2. Define the different types of statistics and give an example of when each type might be used.</h3>"
   ]
  },
  {
   "cell_type": "markdown",
   "id": "1547cab2-cf97-4696-9aec-b32d3bcc2740",
   "metadata": {},
   "source": [
    "Statistics can be divided into two main branches: descriptive statistics and inferential statistics.\n",
    "\n",
    "<b>Descriptive statistics -:</b> It is used to summarize data and describe its characteristics. This can be done using measures of central tendency (such as the mean, median, and mode), measures of variability (such as the standard deviation and range), and graphical representations (such as histograms and bar charts).\n",
    "\n",
    "<b>Example:</b> A company might use descriptive statistics to summarize the results of a customer satisfaction survey. This information could then be used to identify areas where the company can improve its products or services.\n",
    "\n",
    "<b>Inferential statistics -:</b> It is used to draw conclusions about populations based on samples. This can be done using statistical tests, which allow us to estimate the probability of obtaining a particular sample result if the null hypothesis is true.\n",
    "\n",
    "<b>Example:</b> A pharmaceutical company might use inferential statistics to test the effectiveness of a new drug. They would randomly select a sample of patients and give them either the new drug or a placebo. They would then compare the health outcomes of the two groups to see if the new drug is more effective."
   ]
  },
  {
   "cell_type": "markdown",
   "id": "bdbe6e44-6b92-42a6-96f0-c43cdd478101",
   "metadata": {},
   "source": [
    "<h3>Q3. What are the different types of data and how do they differ from each other? Provide an example of\n",
    "each type of data.</h3>"
   ]
  },
  {
   "cell_type": "markdown",
   "id": "deb532d3-6730-4be2-83da-402ec12aa4ac",
   "metadata": {},
   "source": [
    "There are two main types of data: qualitative and quantitative.\n",
    "\n",
    "Qualitative data is non-numerical data that describes characteristics or attributes. It is often used to describe people, places, things, or events. Qualitative data can be further divided into two types:\n",
    "\n",
    "    Nominal data: Nominal data is categorical data that cannot be ordered or ranked. Examples of nominal data include gender, race, and eye color.\n",
    "    Example : gender (male/female), race (White/Black/Asian), eye color (brown/blue/green)\n",
    "\n",
    "    Ordinal data: Ordinal data is categorical data that can be ordered or ranked. Examples of ordinal data include temperature, satisfaction ratings, and Likert scale responses.\n",
    "    Example :  temperature (hot/warm/cool/cold), satisfaction ratings (very satisfied/satisfied/neutral/dissatisfied/very dissatisfied), Likert scale responses (strongly agree/agree/neutral/disagree/strongly disagree)\n",
    "\n",
    "Quantitative data is numerical data that represents quantities. It can be further divided into two types:\n",
    "\n",
    "    Discrete data: Discrete data is numerical data that can only take on certain values. Examples of discrete data include the number of students in a class, the number of cars sold in a month, and the number of times a button is clicked.\n",
    "    Example : number of students in a class (10, 20, 30), number of cars sold in a month (100, 200, 300), number of times a button is clicked (1, 2, 3)\n",
    "    \n",
    "    Continuous data: Continuous data is numerical data that can take on any value within a given range. Examples of continuous data include height, weight, and temperature.\n",
    "    Example : height (5 feet 6 inches, 5 feet 7 inches, 5 feet 8 inches), weight (150 pounds, 160 pounds, 170 pounds), temperature (98.6 degrees Fahrenheit, 99 degrees Fahrenheit, 100 degrees Fahrenheit)"
   ]
  },
  {
   "cell_type": "markdown",
   "id": "073cccb2-026f-4e50-9963-a06d13c6b84d",
   "metadata": {},
   "source": [
    "<h3>Q4. Categorise the following datasets with respect to quantitative and qualitative data types:<br>\n",
    "(i) Grading in exam: A+, A, B+, B, C+, C, D, E<br>\n",
    "(ii) Colour of mangoes: yellow, green, orange, red<br>\n",
    "(iii) Height data of a class: [178.9, 179, 179.5, 176, 177.2, 178.3, 175.8,...]<br>\n",
    "(iv) Number of mangoes exported by a farm: [500, 600, 478, 672, ...]<br></h3>"
   ]
  },
  {
   "cell_type": "markdown",
   "id": "35a02699-49f4-4295-ae79-5e2b6d2da024",
   "metadata": {},
   "source": [
    "Grading in exam -: Qualitative ( Ordinal ) <br>\n",
    "Colour of mangoes -: Qualitative ( Nomial ) <br>\n",
    "Height data of a class -: Quantitative ( Continuous ) <br>\n",
    "Number of mangoes exported by a farm -: Quantitative ( Discreate ) <br>"
   ]
  },
  {
   "cell_type": "markdown",
   "id": "d1c2ecae-81b1-4efe-a511-f3f928f3eeb3",
   "metadata": {},
   "source": [
    "<h3>Q5. Explain the concept of levels of measurement and give an example of a variable for each level.</h3>"
   ]
  },
  {
   "cell_type": "markdown",
   "id": "513f7b98-2754-45cd-aa34-ef9ff4c1784f",
   "metadata": {},
   "source": [
    "<b>Levels of measurement</b> are a classification system for data that describes the amount of information that is contained in the data. There are four levels of measurement:\n",
    "\n",
    "    Nominal: Nominal data is the most basic level of measurement. It is used to categorize data into mutually exclusive categories. Each category is assigned a unique name, but there is no order or ranking between the categories.\n",
    "\n",
    "    Example: Gender (male, female)\n",
    "\n",
    "    Ordinal: Ordinal data is used to categorize data into ordered categories. The categories can be ranked from least to greatest, but the intervals between the categories are not equal.\n",
    "\n",
    "    Example: Temperature (hot, warm, cool, cold)\n",
    "\n",
    "    Interval: Interval data is used to measure data on a scale where the intervals between the values are equal. However, there is no natural zero point on the scale.\n",
    "\n",
    "    Example: Temperature in degrees Celsius\n",
    "\n",
    "    Ratio: Ratio data is the most informative level of measurement. It is used to measure data on a scale where the intervals between the values are equal and there is a natural zero point on the scale.\n",
    "\n",
    "    Example: Height in centimeters\n",
    "\n",
    "The level of measurement of a variable determines which statistical tests can be used to analyze the data. For example, nominal data can only be analyzed using non-parametric tests, while ratio data can be analyzed using both parametric and non-parametric tests.\n",
    "\n",
    "It is important to note that the level of measurement of a variable is not always clear-cut. For example, income data can be considered either ordinal or interval data, depending on how it is used. If income data is used to categorize people into different income groups, then it is considered ordinal data. However, if income data is used to calculate the average income, then it is considered interval data.\n"
   ]
  },
  {
   "cell_type": "markdown",
   "id": "5b5e7422-f717-4bd7-8154-90de9523c852",
   "metadata": {},
   "source": [
    "<h3>Q6. Why is it important to understand the level of measurement when analyzing data? Provide an\n",
    "example to illustrate your answer.</h3>"
   ]
  },
  {
   "cell_type": "markdown",
   "id": "a8bc1373-2b76-488a-b61f-f462248c61e7",
   "metadata": {},
   "source": [
    "It is important to understand the level of measurement when analyzing data because it determines which statistical tests can be used. Using the wrong statistical test can lead to inaccurate results.\n",
    "\n",
    "For example, let's say we want to compare the average income of two groups of people. If we use a parametric test, such as a t-test, to compare the two groups, we are assuming that the income data is interval or ratio data. However, if the income data is actually ordinal data, then using a parametric test would be inappropriate. This is because ordinal data does not have equal intervals between the values.\n",
    "\n",
    "A better approach would be to use a non-parametric test, such as a Mann-Whitney U test, which is specifically designed for ordinal data.\n",
    "\n",
    "Here is another example:\n",
    "\n",
    "Let's say we want to study the relationship between satisfaction levels and customer churn. If we measure satisfaction levels using a Likert scale, then the satisfaction data is ordinal data. However, if we measure satisfaction levels using a numerical scale, then the satisfaction data is interval or ratio data.\n",
    "\n",
    "If we use a parametric test, such as a linear regression, to study the relationship between satisfaction levels and customer churn, we are assuming that the satisfaction data is interval or ratio data. However, if the satisfaction data is actually ordinal data, then using a parametric test would be inappropriate. This is because ordinal data does not have a natural zero point on the scale.\n",
    "\n",
    "A better approach would be to use a non-parametric test, such as a Spearman's rank correlation test, which is specifically designed for ordinal data.\n",
    "\n",
    "By understanding the level of measurement of our data, we can choose the appropriate statistical tests to analyze our data and obtain accurate results."
   ]
  },
  {
   "cell_type": "markdown",
   "id": "83fe3f6d-96d8-42d9-9434-97a6df6f018f",
   "metadata": {},
   "source": [
    "<h3>Q7. How nominal data type is different from ordinal data type.</h3>"
   ]
  },
  {
   "cell_type": "markdown",
   "id": "682390c1-9400-4ba4-9c1b-f7fdccb9901c",
   "metadata": {},
   "source": [
    "Nominal data type is the most basic level of measurement. It is used to categorize data into mutually exclusive categories. Each category is assigned a unique name, but there is no order or ranking between the categories.\n",
    "\n",
    "Ordinal data type is used to categorize data into ordered categories. The categories can be ranked from least to greatest, but the intervals between the categories are not equal.\n",
    "\n",
    "<pre>\n",
    "Characteristic           Nominal data\t             Ordinal data\n",
    "    Order\t                No\t                       Yes\n",
    "    Intervals\t            Equal\t                   Not equal\n",
    "    Example\t           Gender (male, female)   Temperature (hot, warm, cool, cold)</pre>"
   ]
  },
  {
   "cell_type": "markdown",
   "id": "c3077d99-19f3-4a64-ba65-142f7a8f5243",
   "metadata": {},
   "source": [
    "<h3>Q8. Which type of plot can be used to display data in terms of range?</h3>"
   ]
  },
  {
   "cell_type": "markdown",
   "id": "c20b691e-4076-4fde-9fed-107e877feebd",
   "metadata": {},
   "source": [
    "<b>Box plot</b> is a type of plot that can be used to display data in terms of range.\n",
    "\n",
    "A box plot shows the distribution of data by displaying the median, quartiles, and outliers. The median is the middle value of the data set, and the quartiles divide the data set into four equal parts. The outliers are the values that fall outside the whiskers of the box plot.\n",
    "\n",
    "The range of a data set is the difference between the highest and lowest values. The range of a data set can be visualized on a box plot by drawing a line from the top of the whisker to the bottom of the whisker.\n",
    "\n",
    "Here is an example of a box plot that shows the distribution of heights of students in a class:\n",
    "\n",
    "```\n",
    "                   Lower quartile        Median        Upper quartile\n",
    "    Height (cm)       160                 170              180\n",
    "```\n",
    "\n",
    "The range of heights in the class is 20 cm, which is the difference between the highest height (180 cm) and the lowest height (160 cm).\n",
    "\n",
    "Box plots are a useful way to visualize the range of data and identify outliers. They are also a good way to compare the distributions of data from different groups.\n",
    "\n",
    "Other types of plots that can be used to display data in terms of range include:\n",
    "\n",
    "* **Histogram:** A histogram shows the frequency distribution of data by dividing the data set into bins and counting the number of values that fall into each bin. The range of a data set can be visualized on a histogram by drawing a line from the highest bin to the lowest bin.\n",
    "* **Scatter plot:** A scatter plot shows the relationship between two variables by plotting the values of one variable against the values of the other variable. The range of a data set can be visualized on a scatter plot by drawing a line from the highest value of the variable to the lowest value of the variable.\n",
    "\n",
    "However, box plots are generally the preferred plot for displaying data in terms of range because they are more informative and easier to interpret."
   ]
  },
  {
   "cell_type": "markdown",
   "id": "d261c2b9-61ae-43fa-a95f-3e298d360ffc",
   "metadata": {},
   "source": [
    "<h3>Q9. Describe the difference between descriptive and inferential statistics. Give an example of each\n",
    "type of statistics and explain how they are used.</h3>"
   ]
  },
  {
   "cell_type": "markdown",
   "id": "0a6e4232-d53a-4a22-b7bb-632ee70da8ef",
   "metadata": {},
   "source": [
    "**Descriptive statistics** are used to summarize and describe data. They can be used to calculate measures of central tendency (such as the mean, median, and mode), measures of variability (such as the standard deviation and range), and graphical representations (such as histograms and bar charts).\n",
    "\n",
    "**Example:** A company might use descriptive statistics to summarize the results of a customer satisfaction survey. They could calculate the average customer satisfaction rating, the percentage of customers who were satisfied with the product or service, and the most common customer complaints.\n",
    "\n",
    "**Inferential statistics** are used to draw conclusions about populations based on samples. They can be used to test hypotheses and make predictions.\n",
    "\n",
    "**Example:** A pharmaceutical company might use inferential statistics to test the effectiveness of a new drug. They would randomly select a sample of patients and give them either the new drug or a placebo. They would then compare the health outcomes of the two groups to see if the new drug is more effective.\n",
    "\n",
    "The key difference between descriptive and inferential statistics is that descriptive statistics describe data from a sample, while inferential statistics are used to draw conclusions about a population based on data from a sample.\n",
    "\n",
    "**Here is a table that summarizes the key differences between descriptive and inferential statistics:**\n",
    "\n",
    "| Characteristic | Descriptive statistics | Inferential statistics |\n",
    "|---|---|---|\n",
    "| Purpose | To summarize and describe data | To draw conclusions about populations based on samples |\n",
    "| Type of data | Data from a sample | Data from a sample |\n",
    "| Goal | To describe the sample | To make inferences about the population |\n",
    "\n",
    "Descriptive and inferential statistics are both important tools for data analysis. Descriptive statistics are used to understand the data that we have, while inferential statistics are used to make inferences about the population that we are interested in."
   ]
  },
  {
   "cell_type": "markdown",
   "id": "d262e005-5fcd-4c31-a442-32474089fe8e",
   "metadata": {},
   "source": [
    "<h3>Q10. What are some common measures of central tendency and variability used in statistics? Explain\n",
    "how each measure can be used to describe a dataset.</h3>"
   ]
  },
  {
   "cell_type": "markdown",
   "id": "494c8aee-1a7e-4572-9eca-d392821510c7",
   "metadata": {},
   "source": [
    "**Measures of central tendency** are used to describe the center of a data set. The most common measures of central tendency are:\n",
    "\n",
    "* **Mean:** The mean is the average of the values in a data set. It is calculated by adding up all of the values in the data set and dividing by the number of values in the data set.\n",
    "* **Median:** The median is the middle value in a data set that has been ordered from least to greatest. If there is an even number of values in the data set, then the median is the average of the two middle values.\n",
    "* **Mode:** The mode is the most frequently occurring value in a data set.\n",
    "\n",
    "**Measures of variability** are used to describe how spread out a data set is. The most common measures of variability are:\n",
    "\n",
    "* **Range:** The range is the difference between the highest and lowest values in a data set.\n",
    "* **Standard deviation:** The standard deviation is a measure of how much variation there is in a data set. It is calculated by taking the square root of the variance.\n",
    "* **Interquartile range (IQR):** The IQR is a measure of the middle 50% of a data set. It is calculated by subtracting the lower quartile from the upper quartile.\n",
    "\n",
    "**How measures of central tendency and variability can be used to describe a dataset:**\n",
    "\n",
    "* **Mean:** The mean can be used to get a general idea of where the center of the data set is located. For example, if the mean height of a group of adults is 170 cm, then we know that most adults in the group are around 170 cm tall.\n",
    "* **Median:** The median can be used to identify the middle value in a data set. This can be useful for identifying outliers, which are values that are significantly different from the rest of the data set. For example, if the median height of a group of adults is 170 cm, but there are a few adults who are much taller or shorter than 170 cm, then we know that these adults are outliers.\n",
    "* **Mode:** The mode can be used to identify the most common value in a data set. This can be useful for identifying the most popular choice in a survey or poll. For example, if the mode of the favorite color of a group of children is blue, then we know that blue is the most popular color among the children.\n",
    "* **Range:** The range can be used to get a general idea of how spread out the data set is. A large range indicates that the data set is spread out over a large range of values. A small range indicates that the data set is more tightly clustered around the mean.\n",
    "* **Standard deviation:** The standard deviation can be used to get a more precise measure of how spread out the data set is. A high standard deviation indicates that the data set is spread out over a large range of values. A low standard deviation indicates that the data set is more tightly clustered around the mean.\n",
    "* **Interquartile range (IQR):** The IQR can be used to identify the middle 50% of a data set and to identify outliers. A large IQR indicates that the middle 50% of the data set is spread out over a large range of values. A small IQR indicates that the middle 50% of the data set is more tightly clustered around the median.\n",
    "\n",
    "By using measures of central tendency and variability, we can get a better understanding of the distribution of data in a dataset. This information can be used to make informed decisions about the data and to identify patterns and trends."
   ]
  }
 ],
 "metadata": {
  "kernelspec": {
   "display_name": "Python 3 (ipykernel)",
   "language": "python",
   "name": "python3"
  },
  "language_info": {
   "codemirror_mode": {
    "name": "ipython",
    "version": 3
   },
   "file_extension": ".py",
   "mimetype": "text/x-python",
   "name": "python",
   "nbconvert_exporter": "python",
   "pygments_lexer": "ipython3",
   "version": "3.10.8"
  }
 },
 "nbformat": 4,
 "nbformat_minor": 5
}
